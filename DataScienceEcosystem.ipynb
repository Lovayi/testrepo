{
 "cells": [
  {
   "cell_type": "markdown",
   "id": "5cf5d58c-cca9-40c1-9cc0-5f8dd79ceee6",
   "metadata": {
    "tags": []
   },
   "source": [
    "# Data Science Tools and Ecosystem"
   ]
  },
  {
   "cell_type": "markdown",
   "id": "d8b91b1b-496c-4ec5-8230-1251745b329b",
   "metadata": {},
   "source": [
    "In this notebook, Data Science and Ecosystems are summerized."
   ]
  },
  {
   "cell_type": "markdown",
   "id": "ca8388f5-6c6f-49e5-9c59-91ac20b35f71",
   "metadata": {},
   "source": [
    "Some of the popular languages that Data Scientists use are:\n",
    "1. Python\n",
    "2. R\n",
    "3. SQL\n",
    "4. C++\n",
    "5. Java etc.."
   ]
  },
  {
   "cell_type": "markdown",
   "id": "27165961-afc0-4f2a-af29-d0cc0090a648",
   "metadata": {},
   "source": [
    "Some of the commonly used libraries used by Data Scientists include:\n",
    "1. TensorFlow.\n",
    "2. NumPy.\n",
    "3. SciPy.\n",
    "4. Pandas.\n",
    "5. Keras etc.."
   ]
  },
  {
   "cell_type": "markdown",
   "id": "f650babc-b349-4ecf-9b25-d3b17da1e77a",
   "metadata": {},
   "source": [
    "|Data Science Tools|\n",
    "|---|\n",
    "|SAS|\n",
    "|Apache Hadoop|\n",
    "|Tensorflow|"
   ]
  },
  {
   "cell_type": "markdown",
   "id": "3c58909b-1081-4eee-8282-8c12e9e3b610",
   "metadata": {},
   "source": [
    "### Below are a few examples of evaluating arithmetic expressions in Python"
   ]
  },
  {
   "cell_type": "code",
   "execution_count": 2,
   "id": "fda06256-f041-479f-8422-260e70774d5f",
   "metadata": {
    "tags": []
   },
   "outputs": [
    {
     "data": {
      "text/plain": [
       "17"
      ]
     },
     "execution_count": 2,
     "metadata": {},
     "output_type": "execute_result"
    }
   ],
   "source": [
    "#this is a common arithmetic to multiply and then add integers\n",
    "(3*4)+5"
   ]
  },
  {
   "cell_type": "code",
   "execution_count": 3,
   "id": "d6c47f7c-12b6-4c78-b025-45bc221e6b1b",
   "metadata": {
    "tags": []
   },
   "outputs": [
    {
     "data": {
      "text/plain": [
       "3.3333333333333335"
      ]
     },
     "execution_count": 3,
     "metadata": {},
     "output_type": "execute_result"
    }
   ],
   "source": [
    "#This will convert 200 minutes to hours by dividing by 60\n",
    "200/60"
   ]
  },
  {
   "cell_type": "markdown",
   "id": "6cbd04e8-8874-4e1e-9dc5-7ed329aea0fd",
   "metadata": {},
   "source": [
    "__Objective__\n",
    "- List popular languages for Data Science\n",
    "- List popular libraries for Data Science\n",
    "- List of well known Data Science Tools\n",
    "- How to provide comments in the cell"
   ]
  },
  {
   "cell_type": "markdown",
   "id": "2aeb83b4-586a-4846-a082-6a94cf9672ff",
   "metadata": {},
   "source": [
    "## Author\n",
    "Kevin Sbusiso Phakathi"
   ]
  }
 ],
 "metadata": {
  "kernelspec": {
   "display_name": "Python",
   "language": "python",
   "name": "conda-env-python-py"
  },
  "language_info": {
   "codemirror_mode": {
    "name": "ipython",
    "version": 3
   },
   "file_extension": ".py",
   "mimetype": "text/x-python",
   "name": "python",
   "nbconvert_exporter": "python",
   "pygments_lexer": "ipython3",
   "version": "3.7.12"
  }
 },
 "nbformat": 4,
 "nbformat_minor": 5
}
